{
 "cells": [
  {
   "cell_type": "code",
   "execution_count": 4,
   "metadata": {},
   "outputs": [],
   "source": [
    "from huggingface_hub import InferenceApi\n",
    "import os\n",
    "import requests\n",
    "import random"
   ]
  },
  {
   "cell_type": "code",
   "execution_count": 5,
   "metadata": {},
   "outputs": [],
   "source": [
    "# API configuration\n",
    "token = os.getenv(\"HF_API_TOKEN\")\n",
    "API_URL = \"https://api-inference.huggingface.co/models/gpt2\"\n",
    "\n",
    "# headers for authentication\n",
    "headers = {\n",
    "    \"Authorization\": f\"Bearer {token}\"\n",
    "}\n",
    "\n",
    "# list of prompts. Feel free to edit\n",
    "prompts = [\"Hello World, this is a test of the API. The response should be:, testing\", \"How is your day?\", \"Is the Earth flat?\"]\n",
    "\n",
    "# Parameters to control text generation behavior\n",
    "params = {\n",
    "        \"temperature\": 0.35, #creativity controller\n",
    "        \"top_k\": 50,\n",
    "        \"repetition_penalty\": 1.2,\n",
    "        \"max_length\": 50\n",
    "    }\n",
    "\n",
    "\n",
    "def generate_text(api_url, headers, data):\n",
    "    \"\"\"\n",
    "    Send an API request (POST) to Hugging Gace API\n",
    "\n",
    "    Args:\n",
    "        api_url (str): The API URL for the model\n",
    "        headers (dict): The headers for the API request\n",
    "                including the authorization token\n",
    "        data (dict): The data containing the prompt and \n",
    "                        params\n",
    "    \n",
    "    Returns:\n",
    "        str: The generated text or the error message\n",
    "    \"\"\"\n",
    "\n",
    "    try:\n",
    "        response = requests.post(api_url, headers=headers, json=data)\n",
    "\n",
    "        if response.status_code == 200:\n",
    "            return response.json()[0]['generated_text']\n",
    "\n",
    "    except requests.exceptions.RequestException as e:\n",
    "        print('Please verify that your token is getting passed in correctly.')\n",
    "        return f'Error: {response.status_code} - {response.text}'\n",
    "\n"
   ]
  },
  {
   "cell_type": "code",
   "execution_count": 6,
   "metadata": {},
   "outputs": [
    {
     "name": "stdout",
     "output_type": "stream",
     "text": [
      "Hello World, this is a test of the API. The response should be:, testing it out and seeing if any errors are found:\n",
      "The code I wrote for that was very simple to understand but still quite complex in terms where you have your own internal logic around how things work with an application or what's going on inside them (which would take some time). It also took me about 5 minutes before my first attempt at writing something like \"this script will run as root\" because there were no other issues when trying different ways/methods / methods from within Rails itself which made \n",
      "\n",
      "How is your day?\n",
      "I'm not going to lie. I've been here a couple of times and it's like, \"Oh my God.\" It was just so surreal that we had this moment where he said something about the people who were in his life before him — how they're still alive today but are living on their own terms now because there has never really happened anything special or meaningful between them since then,\" she says with an air of certainty as her voice shakes from ear to eye; even though these days \n",
      "\n",
      "Is the Earth flat?\n",
      "It's a question that has been asked many times over. The answer is \"No.\" It seems to be an old one, but it was once considered by some scientists as being true in all respects—that there are no stars or planets around our sun and we can't see them from space (although they do exist). But this theory holds for other things too. For example: if you look at what happens when two galaxies collide together on their own planet-like moons of Jupiter–and \n",
      "\n"
     ]
    }
   ],
   "source": [
    "\n",
    "#calling the function on each prompt\n",
    "for prompt in prompts:\n",
    "    data = {\n",
    "        \"inputs\": prompt,\n",
    "        \"parameters\": params\n",
    "    }\n",
    "\n",
    "    result = generate_text(API_URL, headers, data)\n",
    "\n",
    "    print(result, \"\\n\")"
   ]
  }
 ],
 "metadata": {
  "kernelspec": {
   "display_name": "Python 3",
   "language": "python",
   "name": "python3"
  },
  "language_info": {
   "codemirror_mode": {
    "name": "ipython",
    "version": 3
   },
   "file_extension": ".py",
   "mimetype": "text/x-python",
   "name": "python",
   "nbconvert_exporter": "python",
   "pygments_lexer": "ipython3",
   "version": "3.11.3"
  },
  "orig_nbformat": 4
 },
 "nbformat": 4,
 "nbformat_minor": 2
}
